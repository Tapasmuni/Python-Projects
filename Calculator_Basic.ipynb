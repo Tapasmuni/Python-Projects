{
  "nbformat": 4,
  "nbformat_minor": 0,
  "metadata": {
    "colab": {
      "provenance": [],
      "authorship_tag": "ABX9TyMilwgfNjj50K93t/Py68iZ",
      "include_colab_link": true
    },
    "kernelspec": {
      "name": "python3",
      "display_name": "Python 3"
    },
    "language_info": {
      "name": "python"
    }
  },
  "cells": [
    {
      "cell_type": "markdown",
      "metadata": {
        "id": "view-in-github",
        "colab_type": "text"
      },
      "source": [
        "<a href=\"https://colab.research.google.com/github/Tapasmuni/Python-Projects/blob/main/Calculator_Basic.ipynb\" target=\"_parent\"><img src=\"https://colab.research.google.com/assets/colab-badge.svg\" alt=\"Open In Colab\"/></a>"
      ]
    },
    {
      "cell_type": "code",
      "execution_count": null,
      "metadata": {
        "id": "fmrsQ9NrczwI"
      },
      "outputs": [],
      "source": [
        "def add(a, b):\n",
        "  return  a + b\n",
        "\n",
        "def subtract(a, b):\n",
        "  return  a - b\n",
        "\n",
        "def multiply(a, b):\n",
        "  return  a * b\n",
        "\n",
        "def divide(a, b):\n",
        "  if b == 0:\n",
        "    b = float(input(print(\"You cannot divide by 0. Enter another number: \")))\n",
        "  return  a / b\n",
        "\n",
        "print(\"Hello! Use the calculator\\n\")\n",
        "\n",
        "while input(\"Would you like to continue? (yes/no) \") != \"No\":\n",
        "  x = int(input(\"Enter the first number: \"))\n",
        "  y = int(input(\"Enter the second number: \"))\n",
        "  oper = input(\"What would you like to do? Add, Subtract, Multiply or Divide? \")\n",
        "  if oper == \"Add\":\n",
        "    print(add(x, y))\n",
        "  elif oper == \"Subtract\":\n",
        "    print(subtract(x, y))\n",
        "  elif oper == \"Multiply\":\n",
        "    print(multiply(x, y))\n",
        "  elif oper == \"Divide\":\n",
        "    print(divide(x, y))\n"
      ]
    }
  ]
}
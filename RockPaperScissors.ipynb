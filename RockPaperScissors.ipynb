{
  "nbformat": 4,
  "nbformat_minor": 0,
  "metadata": {
    "colab": {
      "provenance": [],
      "authorship_tag": "ABX9TyMgRJ1DD9WTYCdRD2Pw5m61",
      "include_colab_link": true
    },
    "kernelspec": {
      "name": "python3",
      "display_name": "Python 3"
    },
    "language_info": {
      "name": "python"
    }
  },
  "cells": [
    {
      "cell_type": "markdown",
      "metadata": {
        "id": "view-in-github",
        "colab_type": "text"
      },
      "source": [
        "<a href=\"https://colab.research.google.com/github/Tapasmuni/Python-Projects/blob/main/RockPaperScissors.ipynb\" target=\"_parent\"><img src=\"https://colab.research.google.com/assets/colab-badge.svg\" alt=\"Open In Colab\"/></a>"
      ]
    },
    {
      "cell_type": "code",
      "execution_count": 4,
      "metadata": {
        "id": "2sYpep-_C2Oc",
        "colab": {
          "base_uri": "https://localhost:8080/",
          "height": 72
        },
        "outputId": "8a5d6e72-8b60-474a-b1ee-fd4270679b47"
      },
      "outputs": [
        {
          "output_type": "stream",
          "name": "stdout",
          "text": [
            "Enter your selection - Rock, Paper, or Scissors Rock\n",
            "The computer picked Scissors\n"
          ]
        },
        {
          "output_type": "execute_result",
          "data": {
            "text/plain": [
              "'You Won!'"
            ],
            "application/vnd.google.colaboratory.intrinsic+json": {
              "type": "string"
            }
          },
          "metadata": {},
          "execution_count": 4
        }
      ],
      "source": [
        "import random\n",
        "\n",
        "def play():\n",
        "  user = input(\"Enter your selection - Rock, Paper, or Scissors \")\n",
        "  computer = random.choice(['Rock', 'Paper', 'Scissors'])\n",
        "\n",
        "  if user == computer:\n",
        "    print(f\"The computer picked {computer}\")\n",
        "    return \"It's a tie\"\n",
        "\n",
        "  if is_win(user, computer):\n",
        "    print(f\"The computer picked {computer}\")\n",
        "    return \"You Won!\"\n",
        "\n",
        "  print(f\"The computer picked {computer}\")\n",
        "  return \"You Lost\"\n",
        "\n",
        "def is_win(player, opponent):\n",
        "  if (player == \"Rock\" and opponent == \"Scissors\") or (player == \"Paper\" and opponent == \"Rock\") or \\\n",
        "   (player == \"Scissors\" and opponent == \"Paper\"):\n",
        "    return True\n",
        "\n",
        "play()"
      ]
    }
  ]
}